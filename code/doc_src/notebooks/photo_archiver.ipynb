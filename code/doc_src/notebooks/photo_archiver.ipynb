{
 "cells": [
  {
   "cell_type": "markdown",
   "id": "d31dde39",
   "metadata": {},
   "source": [
    "# Photo Archiver\n",
    "\n",
    "Tools for grouping and rename large photo-collections, os.stat or filename based."
   ]
  },
  {
   "cell_type": "code",
   "execution_count": 2,
   "id": "d49c40e5",
   "metadata": {},
   "outputs": [],
   "source": [
    "import sys\n",
    "import os\n",
    "from pathlib import Path\n",
    "from tqdm import tqdm"
   ]
  },
  {
   "cell_type": "code",
   "execution_count": 3,
   "id": "8141223f",
   "metadata": {},
   "outputs": [],
   "source": [
    "sys.path.append(r'E:\\dados-erick\\Documents\\dataS-anotacoes\\photo_tools\\code\\src')"
   ]
  },
  {
   "cell_type": "code",
   "execution_count": 4,
   "id": "2e6b0614",
   "metadata": {},
   "outputs": [],
   "source": [
    "%load_ext autoreload\n",
    "%autoreload 2"
   ]
  },
  {
   "cell_type": "code",
   "execution_count": 5,
   "id": "08a6ac59",
   "metadata": {},
   "outputs": [],
   "source": [
    "import photo_tools as pt"
   ]
  },
  {
   "cell_type": "markdown",
   "id": "10c92b96",
   "metadata": {},
   "source": [
    "## Archiving photos\n",
    "\n",
    "Now pics will be organized by year/month/day:"
   ]
  },
  {
   "cell_type": "code",
   "execution_count": 13,
   "id": "fc217394",
   "metadata": {},
   "outputs": [
    {
     "name": "stdout",
     "output_type": "stream",
     "text": [
      "not creating a copy\n",
      "540 files to be moved.\n",
      "there are 77 already in destiny, skipping those\n",
      "Monthly aggregation\n"
     ]
    },
    {
     "name": "stderr",
     "output_type": "stream",
     "text": [
      "100%|██████████| 439/439 [00:17<00:00, 24.63it/s]\n"
     ]
    }
   ],
   "source": [
    "source_folder = r'E:\\dados\\fotos de família\\CANON'\n",
    "destination_folder = r'C:\\Users\\erick\\OneDrive\\Pictures\\Camera Roll'\n",
    "\n",
    "pt.archive_files(source_folder=source_folder, destination_folder=destination_folder, agg_lvl='monthly', copy_first=False)"
   ]
  },
  {
   "cell_type": "code",
   "execution_count": 14,
   "id": "d9c93bfd",
   "metadata": {},
   "outputs": [
    {
     "name": "stdout",
     "output_type": "stream",
     "text": [
      "not creating a copy\n",
      "1717 files to be moved.\n",
      "there are 1717 already in destiny, skipping those\n",
      "Monthly aggregation\n"
     ]
    },
    {
     "name": "stderr",
     "output_type": "stream",
     "text": [
      "0it [00:00, ?it/s]\n"
     ]
    }
   ],
   "source": [
    "source_folder = r'E:\\dados\\fotos de família\\OP\\2023-09-01'\n",
    "destination_folder = r'C:\\Users\\erick\\OneDrive\\Pictures\\Camera Roll'\n",
    "\n",
    "pt.archive_files(source_folder=source_folder, destination_folder=destination_folder, agg_lvl='monthly', copy_first=False)\n"
   ]
  },
  {
   "cell_type": "code",
   "execution_count": 15,
   "id": "017fefe7",
   "metadata": {},
   "outputs": [
    {
     "name": "stdout",
     "output_type": "stream",
     "text": [
      "not creating a copy\n",
      "843 files to be moved.\n",
      "there are 0 already in destiny, skipping those\n",
      "Monthly aggregation\n"
     ]
    },
    {
     "name": "stderr",
     "output_type": "stream",
     "text": [
      "100%|██████████| 843/843 [00:34<00:00, 24.64it/s]\n"
     ]
    }
   ],
   "source": [
    "source_folder = r'E:\\dados\\fotos de família\\S10'\n",
    "destination_folder = r'C:\\Users\\erick\\OneDrive\\Pictures\\Camera Roll\\s10'\n",
    "\n",
    "pt.archive_files(source_folder=source_folder, destination_folder=destination_folder, agg_lvl='monthly', copy_first=False)\n"
   ]
  },
  {
   "cell_type": "markdown",
   "id": "8f1fc84d",
   "metadata": {},
   "source": [
    "## Renaming / sorting photos\n",
    "\n",
    "Renames each file in folder with date of creation as prefix"
   ]
  },
  {
   "cell_type": "code",
   "execution_count": null,
   "id": "e825ad1e",
   "metadata": {},
   "outputs": [],
   "source": [
    "source = r'C:\\temp\\selected_final - Copia'\n",
    "destiny = r'C:\\temp\\selected_final - rename'"
   ]
  },
  {
   "cell_type": "code",
   "execution_count": null,
   "id": "a9f5a2ab",
   "metadata": {},
   "outputs": [],
   "source": [
    "pt.sort_rename_files(source_folder=source, destination_folder=destiny)"
   ]
  },
  {
   "cell_type": "markdown",
   "id": "05d4d052",
   "metadata": {},
   "source": [
    "### File name based\n",
    "\n",
    "EXPERIMENTAL"
   ]
  },
  {
   "cell_type": "code",
   "execution_count": null,
   "id": "a8e8e5bb",
   "metadata": {},
   "outputs": [],
   "source": [
    "source = r'C:\\Users\\erickfis\\Documents\\onedrive_hotmail\\OneDrive\\Pictures\\Camera Roll'\n",
    "destiny = r'C:\\Users\\erickfis\\Documents\\onedrive_hotmail\\OneDrive\\Pictures\\camera'"
   ]
  },
  {
   "cell_type": "code",
   "execution_count": null,
   "id": "b3842535",
   "metadata": {},
   "outputs": [],
   "source": [
    "pt.archive_files_by_name(source_folder=source, destination_folder=destiny, agg_lvl='monthly', copy_first=False)"
   ]
  }
 ],
 "metadata": {
  "kernelspec": {
   "display_name": "Python 3 (ipykernel)",
   "language": "python",
   "name": "python3"
  },
  "language_info": {
   "codemirror_mode": {
    "name": "ipython",
    "version": 3
   },
   "file_extension": ".py",
   "mimetype": "text/x-python",
   "name": "python",
   "nbconvert_exporter": "python",
   "pygments_lexer": "ipython3",
   "version": "3.11.0"
  }
 },
 "nbformat": 4,
 "nbformat_minor": 5
}
