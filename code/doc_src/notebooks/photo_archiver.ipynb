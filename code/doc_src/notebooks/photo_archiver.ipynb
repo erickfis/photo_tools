{
 "cells": [
  {
   "cell_type": "markdown",
   "id": "d31dde39",
   "metadata": {},
   "source": [
    "# Photo Archiver\n",
    "\n",
    "Tools for grouping and rename large photo-collections, os.stat or filename based."
   ]
  },
  {
   "cell_type": "code",
   "execution_count": 18,
   "id": "d49c40e5",
   "metadata": {},
   "outputs": [],
   "source": [
    "import sys\n",
    "import os\n",
    "import pathlib\n",
    "from tqdm import tqdm"
   ]
  },
  {
   "cell_type": "code",
   "execution_count": 2,
   "id": "8141223f",
   "metadata": {},
   "outputs": [],
   "source": [
    "sys.path.append(r'C:\\Users\\erickfis\\Documents\\projetos\\photo_tools\\code\\src')"
   ]
  },
  {
   "cell_type": "code",
   "execution_count": 3,
   "id": "2e6b0614",
   "metadata": {},
   "outputs": [],
   "source": [
    "%load_ext autoreload\n",
    "%autoreload 2"
   ]
  },
  {
   "cell_type": "code",
   "execution_count": 4,
   "id": "08a6ac59",
   "metadata": {},
   "outputs": [],
   "source": [
    "import photo_tools as pt"
   ]
  },
  {
   "cell_type": "markdown",
   "id": "e7467967",
   "metadata": {},
   "source": [
    "## Moving photos around\n",
    "\n",
    "Just using pathlib to move pics around..."
   ]
  },
  {
   "cell_type": "code",
   "execution_count": 9,
   "id": "1d68c4d4",
   "metadata": {},
   "outputs": [
    {
     "name": "stderr",
     "output_type": "stream",
     "text": [
      "100%|██████████| 3699/3699 [00:04<00:00, 903.31it/s] \n"
     ]
    }
   ],
   "source": [
    "# moving selected files\n",
    "folder = pathlib.Path(r'C:\\Users\\erickfis\\Documents\\onedrive_hotmail\\OneDrive\\Pictures\\Camera Roll\\2024-05')\n",
    "files = list(folder.glob('*'))\n",
    "dest_folder = pathlib.Path(r'C:\\Users\\erickfis\\Documents\\onedrive_hotmail\\OneDrive\\Pictures\\Camera Roll')\n",
    "for file in tqdm(files):\n",
    "    dest = dest_folder / file.name\n",
    "    file.rename(dest)"
   ]
  },
  {
   "cell_type": "code",
   "execution_count": null,
   "id": "92c3b94c",
   "metadata": {},
   "outputs": [],
   "source": [
    "# moving selected files\n",
    "folder = pathlib.Path(r'C:\\Users\\erickfis\\Documents\\onedrive_hotmail\\OneDrive\\Pictures\\Camera Roll')\n",
    "files = list(folder.glob('FB*'))\n",
    "dest_folder = pathlib.Path(r'C:\\Users\\erickfis\\Documents\\onedrive_hotmail\\OneDrive\\Pictures\\Facebook')\n",
    "for file in tqdm(files):\n",
    "    dest = dest_folder / file.name\n",
    "    file.rename(dest)"
   ]
  },
  {
   "cell_type": "markdown",
   "id": "10c92b96",
   "metadata": {},
   "source": [
    "## Archiving photos\n",
    "\n",
    "Now pics will be organized by year/month/day:"
   ]
  },
  {
   "cell_type": "code",
   "execution_count": 7,
   "id": "fc217394",
   "metadata": {},
   "outputs": [],
   "source": [
    "source = r'C:\\Users\\erickfis\\Documents\\onedrive_hotmail\\OneDrive\\Pictures\\Camera Roll'\n",
    "destiny = r'C:\\Users\\erickfis\\Documents\\onedrive_hotmail\\OneDrive\\Pictures\\camera'"
   ]
  },
  {
   "cell_type": "code",
   "execution_count": 8,
   "id": "a95161cb",
   "metadata": {},
   "outputs": [
    {
     "name": "stdout",
     "output_type": "stream",
     "text": [
      "not creating a copy\n",
      "3699 files to be moved.\n",
      "Monthly aggregation\n"
     ]
    },
    {
     "name": "stderr",
     "output_type": "stream",
     "text": [
      "  0%|          | 0/3699 [00:00<?, ?it/s]"
     ]
    },
    {
     "name": "stderr",
     "output_type": "stream",
     "text": [
      "100%|██████████| 3699/3699 [00:08<00:00, 451.56it/s]\n"
     ]
    }
   ],
   "source": [
    "pt.archive_files(source_folder=source, destination_folder=destiny, agg_lvl='monthly', copy_first=False)"
   ]
  },
  {
   "cell_type": "markdown",
   "id": "8f1fc84d",
   "metadata": {},
   "source": [
    "## Renaming / sorting photos\n",
    "\n",
    "Renames each file in folder with date of creation as prefix"
   ]
  },
  {
   "cell_type": "code",
   "execution_count": null,
   "id": "e825ad1e",
   "metadata": {},
   "outputs": [],
   "source": [
    "source = r'C:\\temp\\selected_final - Copia'\n",
    "destiny = r'C:\\temp\\selected_final - rename'"
   ]
  },
  {
   "cell_type": "code",
   "execution_count": null,
   "id": "a9f5a2ab",
   "metadata": {},
   "outputs": [],
   "source": [
    "pt.sort_rename_files(source_folder=source, destination_folder=destiny)"
   ]
  },
  {
   "cell_type": "markdown",
   "id": "05d4d052",
   "metadata": {},
   "source": [
    "### File name based\n",
    "\n",
    "EXPERIMENTAL"
   ]
  },
  {
   "cell_type": "code",
   "execution_count": 24,
   "id": "a8e8e5bb",
   "metadata": {},
   "outputs": [],
   "source": [
    "source = r'C:\\Users\\erickfis\\Documents\\onedrive_hotmail\\OneDrive\\Pictures\\Camera Roll'\n",
    "destiny = r'C:\\Users\\erickfis\\Documents\\onedrive_hotmail\\OneDrive\\Pictures\\camera'"
   ]
  },
  {
   "cell_type": "code",
   "execution_count": 27,
   "id": "b3842535",
   "metadata": {},
   "outputs": [
    {
     "name": "stdout",
     "output_type": "stream",
     "text": [
      "not creating a copy\n",
      "3679 files to be moved\n",
      "Monthly aggregation\n"
     ]
    },
    {
     "name": "stderr",
     "output_type": "stream",
     "text": [
      "100%|██████████| 3679/3679 [00:02<00:00, 1506.35it/s]\n"
     ]
    }
   ],
   "source": [
    "pt.archive_files_by_name(source_folder=source, destination_folder=destiny, agg_lvl='monthly', copy_first=False)"
   ]
  }
 ],
 "metadata": {
  "kernelspec": {
   "display_name": "Python 3 (ipykernel)",
   "language": "python",
   "name": "python3"
  },
  "language_info": {
   "codemirror_mode": {
    "name": "ipython",
    "version": 3
   },
   "file_extension": ".py",
   "mimetype": "text/x-python",
   "name": "python",
   "nbconvert_exporter": "python",
   "pygments_lexer": "ipython3",
   "version": "3.12.3"
  }
 },
 "nbformat": 4,
 "nbformat_minor": 5
}
