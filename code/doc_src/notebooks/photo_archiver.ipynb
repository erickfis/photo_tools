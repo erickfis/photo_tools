{
 "cells": [
  {
   "cell_type": "markdown",
   "id": "d31dde39",
   "metadata": {},
   "source": [
    "# Photo Archiver\n",
    "\n",
    "Tools for grouping and rename large photo-collections, os.stat or filename based."
   ]
  },
  {
   "cell_type": "code",
   "execution_count": 1,
   "id": "d49c40e5",
   "metadata": {},
   "outputs": [],
   "source": [
    "import sys"
   ]
  },
  {
   "cell_type": "code",
   "execution_count": 2,
   "id": "89d83177",
   "metadata": {},
   "outputs": [],
   "source": [
    "sys.path.append('E:\\dados-erick\\Documents\\dataS-anotacoes\\photo_tools\\code\\src')"
   ]
  },
  {
   "cell_type": "code",
   "execution_count": 3,
   "id": "209038b7",
   "metadata": {},
   "outputs": [],
   "source": [
    "%load_ext autoreload\n",
    "%autoreload 2"
   ]
  },
  {
   "cell_type": "code",
   "execution_count": 4,
   "id": "811f555f",
   "metadata": {},
   "outputs": [],
   "source": [
    "import photo_tools as pt"
   ]
  },
  {
   "cell_type": "markdown",
   "id": "4de6cd8c",
   "metadata": {},
   "source": [
    "## Archiving photos"
   ]
  },
  {
   "cell_type": "code",
   "execution_count": 23,
   "id": "ba2c686d",
   "metadata": {},
   "outputs": [],
   "source": [
    "source = r'C:\\temp\\selected_final - Copia'\n",
    "destiny = r'C:\\temp\\selected_final - ym2'"
   ]
  },
  {
   "cell_type": "code",
   "execution_count": 24,
   "id": "b38e669c",
   "metadata": {},
   "outputs": [
    {
     "name": "stdout",
     "output_type": "stream",
     "text": [
      "146 files to be moved.\n",
      "Monthly aggregation\n"
     ]
    },
    {
     "name": "stderr",
     "output_type": "stream",
     "text": [
      "100%|███████████████████████████████████████████████████████████████████████████████| 146/146 [00:00<00:00, 676.57it/s]\n"
     ]
    }
   ],
   "source": [
    "pt.archive_files(source_folder=source, destination_folder=destiny, agg_lvl='monthly')"
   ]
  },
  {
   "cell_type": "markdown",
   "id": "50a7faba",
   "metadata": {},
   "source": [
    "## Renaming / sorting photos"
   ]
  },
  {
   "cell_type": "code",
   "execution_count": 26,
   "id": "be10ec78",
   "metadata": {},
   "outputs": [],
   "source": [
    "source = r'C:\\temp\\selected_final - Copia'\n",
    "destiny = r'C:\\temp\\selected_final - rename'"
   ]
  },
  {
   "cell_type": "code",
   "execution_count": 27,
   "id": "b380a252",
   "metadata": {},
   "outputs": [
    {
     "name": "stdout",
     "output_type": "stream",
     "text": [
      "146 files to be renamed.\n"
     ]
    },
    {
     "name": "stderr",
     "output_type": "stream",
     "text": [
      "100%|███████████████████████████████████████████████████████████████████████████████| 146/146 [00:00<00:00, 974.42it/s]\n"
     ]
    }
   ],
   "source": [
    "pt.sort_rename_files(source_folder=source, destination_folder=destiny)"
   ]
  },
  {
   "cell_type": "markdown",
   "id": "05d4d052",
   "metadata": {},
   "source": [
    "### File name based\n",
    "\n",
    "todo"
   ]
  },
  {
   "cell_type": "code",
   "execution_count": null,
   "id": "3bb8dd02",
   "metadata": {},
   "outputs": [],
   "source": []
  },
  {
   "cell_type": "code",
   "execution_count": null,
   "id": "b55b0ce5",
   "metadata": {},
   "outputs": [],
   "source": []
  }
 ],
 "metadata": {
  "kernelspec": {
   "display_name": "Python 3 (ipykernel)",
   "language": "python",
   "name": "python3"
  },
  "language_info": {
   "codemirror_mode": {
    "name": "ipython",
    "version": 3
   },
   "file_extension": ".py",
   "mimetype": "text/x-python",
   "name": "python",
   "nbconvert_exporter": "python",
   "pygments_lexer": "ipython3",
   "version": "3.11.0"
  }
 },
 "nbformat": 4,
 "nbformat_minor": 5
}
